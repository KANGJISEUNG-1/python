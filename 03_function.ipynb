{
 "cells": [
  {
   "cell_type": "code",
   "execution_count": 1,
   "id": "2ab08ab8-a235-40b1-8f3d-23a5c6d7ea65",
   "metadata": {},
   "outputs": [
    {
     "name": "stdout",
     "output_type": "stream",
     "text": [
      "사각형의 넓이는 1500고, 둘레는 3000입니다\n"
     ]
    }
   ],
   "source": [
    "height = 50\n",
    "width = 30\n",
    "\n",
    "area = height * width\n",
    "perimeter = (height * width) * 2\n",
    "print(f\"사각형의 넓이는 {area}고, 둘레는 {perimeter}입니다\")"
   ]
  },
  {
   "cell_type": "markdown",
   "id": "c2af344e-2bd5-4a9f-908a-09760fdb2183",
   "metadata": {},
   "source": [
    "##함수의 선언과 호출\n",
    "\n",
    "    - 함수의 선언\n",
    "\n",
    "~~~ python\n",
    "def func_name(parameter1, parameter2 ...):\n",
    "    code1\n",
    "    code2\n",
    "    ...\n",
    "    return value\n",
    "```\n",
    "\n",
    "    - 함수의 호출(실행)\n",
    "\n",
    "    func_name(parameter1, parameter2 ...)\n",
    "\n",
    "    \n",
    "\n"
   ]
  },
  {
   "cell_type": "code",
   "execution_count": 4,
   "id": "74ea16ef-51e5-44f6-b044-69621d4a583d",
   "metadata": {},
   "outputs": [],
   "source": [
    "def rectangle(height, width):\n",
    "    area = height * width\n",
    "    perimter = (height + width) * 2\n",
    "    print(area, perimeter)\n",
    "          \n",
    "    "
   ]
  },
  {
   "cell_type": "code",
   "execution_count": 5,
   "id": "8579d182-b6a4-4c68-ab4a-8add26c3d299",
   "metadata": {},
   "outputs": [
    {
     "name": "stdout",
     "output_type": "stream",
     "text": [
      "20000 3000\n",
      "250000 3000\n",
      "50 3000\n"
     ]
    }
   ],
   "source": [
    "rectangle(100, 200)\n",
    "rectangle(500, 500)\n",
    "rectangle(5,10)"
   ]
  },
  {
   "cell_type": "code",
   "execution_count": 6,
   "id": "1436221b-2401-4e85-8f13-2fa261ff78ff",
   "metadata": {},
   "outputs": [
    {
     "data": {
      "text/plain": [
       "4"
      ]
     },
     "execution_count": 6,
     "metadata": {},
     "output_type": "execute_result"
    }
   ],
   "source": [
    "max (1,2,3,4)"
   ]
  },
  {
   "cell_type": "code",
   "execution_count": 24,
   "id": "13f1b3c3-64aa-4a85-be0f-382f36659d54",
   "metadata": {},
   "outputs": [],
   "source": [
    "def my_max(num1, num2):\n",
    "    if num1 > num2:\n",
    "        print(num1)\n",
    "    elif num1 < num2:\n",
    "        print(num2)\n",
    "    else:\n",
    "        print('쌤쌤')\n",
    "    "
   ]
  },
  {
   "cell_type": "code",
   "execution_count": 25,
   "id": "6dbbde0d-ffbd-4b82-8eb5-aff3403bdada",
   "metadata": {},
   "outputs": [
    {
     "name": "stdout",
     "output_type": "stream",
     "text": [
      "4\n",
      "5\n",
      "쌤쌤\n"
     ]
    }
   ],
   "source": [
    "my_max(4,3)\n",
    "my_max(5,1)\n",
    "my_max(5,5)"
   ]
  },
  {
   "cell_type": "markdown",
   "id": "484ea571-d7bd-4bd1-8b34-31c2eceac908",
   "metadata": {},
   "source": [
    "##함수의 return\n",
    "\n",
    "- 함수가 return을 만나면 해당 값을 반환하고 함수를 종료\n",
    "- 만약 return이 없는 경우 none을 자동으로 반환\n",
    "- return은 오직 하나의 객체만 반환한다."
   ]
  },
  {
   "cell_type": "code",
   "execution_count": 26,
   "id": "1f9f7cf1-0ca2-4a82-9d4d-9c88290fef2a",
   "metadata": {},
   "outputs": [
    {
     "name": "stdout",
     "output_type": "stream",
     "text": [
      "2\n"
     ]
    }
   ],
   "source": [
    "result = my_max(1, 2)\n",
    "print(result)\n"
   ]
  },
  {
   "cell_type": "code",
   "execution_count": 27,
   "id": "14fe4728-5e27-45ef-a410-3ffd815f716b",
   "metadata": {},
   "outputs": [],
   "source": [
    "def my_max2(num1, num2):\n",
    "    if num1 > num2:\n",
    "        return num1\n",
    "    elif num1 < num2:\n",
    "        return num2\n",
    "    else:\n",
    "        return num1"
   ]
  },
  {
   "cell_type": "code",
   "execution_count": 29,
   "id": "25af361f-9b52-46c9-bd93-79a78931d863",
   "metadata": {
    "scrolled": true
   },
   "outputs": [
    {
     "name": "stdout",
     "output_type": "stream",
     "text": [
      "2\n"
     ]
    }
   ],
   "source": [
    "my_max(1, 2)"
   ]
  },
  {
   "cell_type": "code",
   "execution_count": 30,
   "id": "557421d1-24bd-4a40-bdf0-5930fd0b5b3b",
   "metadata": {
    "scrolled": true
   },
   "outputs": [
    {
     "data": {
      "text/plain": [
       "2"
      ]
     },
     "execution_count": 30,
     "metadata": {},
     "output_type": "execute_result"
    }
   ],
   "source": [
    "my_max2(1, 2)"
   ]
  },
  {
   "cell_type": "code",
   "execution_count": 31,
   "id": "2323247e-8f4f-4f25-84bd-9633a6c521ee",
   "metadata": {},
   "outputs": [
    {
     "data": {
      "text/plain": [
       "2"
      ]
     },
     "execution_count": 31,
     "metadata": {},
     "output_type": "execute_result"
    }
   ],
   "source": [
    "result = my_max2(1, 2)\n",
    "result\n"
   ]
  },
  {
   "cell_type": "code",
   "execution_count": 32,
   "id": "bf974336-2613-4b9d-9b98-bbe546e97138",
   "metadata": {},
   "outputs": [],
   "source": [
    "#my version\n",
    "def my_list_max(list1, list2):\n",
    "    if sum(list1) < sum(list2):\n",
    "        return list2\n",
    "    else:\n",
    "        pass\n",
    "    "
   ]
  },
  {
   "cell_type": "code",
   "execution_count": null,
   "id": "a8909f7a-08d2-4495-aeaa-890f8d9f1bc3",
   "metadata": {},
   "outputs": [],
   "source": [
    "#version2\n",
    "def my_list_max(list1, list2):\n",
    "    result = 0 #빈방 만들어주기\n",
    "    result2 = 0 #빈방 만들어주기\n",
    "    \n",
    "    for num in list1:\n",
    "        result1 += num\n",
    "    for num in list2:\n",
    "        result2 += num\n",
    "    if result1 > result2:\n",
    "        return list1\n",
    "    else:\n",
    "        return list2\n",
    "\n",
    "\n"
   ]
  },
  {
   "cell_type": "code",
   "execution_count": null,
   "id": "32de59da-8ea2-4c55-9d7d-fa10371acab1",
   "metadata": {},
   "outputs": [],
   "source": [
    "#tc version\n",
    "def my_list_max(list1, list2):\n",
    "    if sum(list1) > sum(list2):\n",
    "        return list1\n",
    "    else:\n",
    "        return list2"
   ]
  },
  {
   "cell_type": "code",
   "execution_count": 33,
   "id": "c33f657d-8b7c-48e5-95d9-627342584b41",
   "metadata": {},
   "outputs": [
    {
     "data": {
      "text/plain": [
       "[2, 3, 4]"
      ]
     },
     "execution_count": 33,
     "metadata": {},
     "output_type": "execute_result"
    }
   ],
   "source": [
    "my_list_max([1, 2, 3], [2,3,4])\n"
   ]
  },
  {
   "cell_type": "code",
   "execution_count": 34,
   "id": "221c6c63-80c2-4310-841e-b79a7d06c1d9",
   "metadata": {},
   "outputs": [
    {
     "data": {
      "text/plain": [
       "(10, 20)"
      ]
     },
     "execution_count": 34,
     "metadata": {},
     "output_type": "execute_result"
    }
   ],
   "source": [
    "def my_def2(x):\n",
    "    #return x * 3\n",
    "    return (x, x * 2)\n",
    "\n",
    "my_def2(10)\n"
   ]
  },
  {
   "cell_type": "code",
   "execution_count": null,
   "id": "8df30094-2dac-4935-be36-77a26f5f0edf",
   "metadata": {},
   "outputs": [],
   "source": [
    "def cylinder(r, h):\n",
    "    return 3.14 * r**2 * h\n",
    "    "
   ]
  },
  {
   "cell_type": "code",
   "execution_count": null,
   "id": "a8798ad0-d1e2-42db-8bc2-966fb5f96f58",
   "metadata": {},
   "outputs": [],
   "source": [
    "cylinder(10, 5)\n",
    "cylinder(5, 10)\n",
    "\n",
    "\n"
   ]
  },
  {
   "cell_type": "code",
   "execution_count": null,
   "id": "69b68feb-dc89-4f17-9142-23081ecde70b",
   "metadata": {},
   "outputs": [],
   "source": [
    "def greeting(name = '소크라테스'):\n",
    "    return "
   ]
  },
  {
   "cell_type": "code",
   "execution_count": null,
   "id": "d613ecf8-45a8-41cb-9127-4a0b6cd1e81c",
   "metadata": {},
   "outputs": [],
   "source": [
    "#오답\n",
    "def greeting(name='익명', age):\n",
    "    return f'{name}님의 나이는 {age}입니다.'"
   ]
  },
  {
   "cell_type": "code",
   "execution_count": 35,
   "id": "e270381d-c231-405a-90a9-89d906f95de5",
   "metadata": {},
   "outputs": [],
   "source": [
    "#정답\n",
    "#기본값을 앞으로 설정해야 돌아감. 왜냐? 기본값이니까. 추가 데이터(name='익명')는 있을수도 없을 수도 있는 데이터라서\n",
    "def greeting(age, name='익명'):\n",
    "    return f'{name}님의 나이는 {age}입니다.'"
   ]
  },
  {
   "cell_type": "code",
   "execution_count": 36,
   "id": "965d73c5-1fc3-453b-825a-f9c15dfa4a0f",
   "metadata": {},
   "outputs": [
    {
     "data": {
      "text/plain": [
       "'익명님의 나이는 10입니다.'"
      ]
     },
     "execution_count": 36,
     "metadata": {},
     "output_type": "execute_result"
    }
   ],
   "source": [
    "greeting(10)"
   ]
  },
  {
   "cell_type": "markdown",
   "id": "e2d81edf-2c2a-482e-a32b-138749898b64",
   "metadata": {},
   "source": [
    "### 키워드 인수\n",
    "함수를 호출(실행)할 때 내가 원하는 위치에 직접적으로 특정인자를 전달\n"
   ]
  },
  {
   "cell_type": "code",
   "execution_count": null,
   "id": "0665cd82-a537-4ed8-9e16-5ddc2ef0dfcb",
   "metadata": {},
   "outputs": [],
   "source": [
    "def greeting(age, name='익명'):\n",
    "    return(f'{name}님의 나이는 {age}입니다.')"
   ]
  },
  {
   "cell_type": "code",
   "execution_count": null,
   "id": "ef6ed382-4b66-442f-83d0-71cacdfd1242",
   "metadata": {},
   "outputs": [],
   "source": [
    "greeting(10)\n",
    "greeting(10, '길동')\n",
    "greeting(name='길동',age=10)\n",
    "\n"
   ]
  },
  {
   "cell_type": "markdown",
   "id": "8309c283-cca2-4dcf-bfae-73e1d039b007",
   "metadata": {},
   "source": [
    "## 가변인자 리스트\n",
    "\n",
    "\n",
    "```\n",
    "def func(*parms):\n",
    "    code ...\n",
    "\n",
    "\n"
   ]
  },
  {
   "cell_type": "code",
   "execution_count": 38,
   "id": "b5b2cb0e-6288-4559-af4d-634ef8b594d6",
   "metadata": {},
   "outputs": [
    {
     "name": "stdout",
     "output_type": "stream",
     "text": [
      "hi hello my name is\n"
     ]
    }
   ],
   "source": [
    "print('hi', 'hello', 'my', 'name', 'is')"
   ]
  },
  {
   "cell_type": "code",
   "execution_count": 40,
   "id": "dea60313-8290-4317-b8c0-8dba512016e9",
   "metadata": {},
   "outputs": [],
   "source": [
    "def my_print(*words):\n",
    "    print(words)"
   ]
  },
  {
   "cell_type": "code",
   "execution_count": 41,
   "id": "3e5d8a06-a841-402d-9773-7583e1cc2475",
   "metadata": {},
   "outputs": [
    {
     "ename": "NameError",
     "evalue": "name 'words' is not defined",
     "output_type": "error",
     "traceback": [
      "\u001b[1;31m---------------------------------------------------------------------------\u001b[0m",
      "\u001b[1;31mNameError\u001b[0m                                 Traceback (most recent call last)",
      "Cell \u001b[1;32mIn[41], line 1\u001b[0m\n\u001b[1;32m----> 1\u001b[0m \u001b[43mwords\u001b[49m\n",
      "\u001b[1;31mNameError\u001b[0m: name 'words' is not defined"
     ]
    }
   ],
   "source": [
    "words"
   ]
  },
  {
   "cell_type": "code",
   "execution_count": null,
   "id": "35c0b240-1ee4-453a-bf62-9824e4e02e7a",
   "metadata": {},
   "outputs": [],
   "source": [
    "def my_max(*numbers):\n",
    "    pass\n",
    "    "
   ]
  },
  {
   "cell_type": "code",
   "execution_count": null,
   "id": "1c8b0dfa-331b-4eee-8509-9374625a04c8",
   "metadata": {},
   "outputs": [],
   "source": [
    "#quiz\n",
    "\n",
    "my_max(1,2,3,4,5)\n",
    "=> 5 ??"
   ]
  },
  {
   "cell_type": "code",
   "execution_count": null,
   "id": "b977f06d-80f6-495f-9806-7d442f3c05f4",
   "metadata": {},
   "outputs": [],
   "source": [
    "def my_max(*numbers):\n",
    "    for i in range(my_max):\n",
    "        \n",
    "        "
   ]
  },
  {
   "cell_type": "code",
   "execution_count": null,
   "id": "934a8168-7f05-4f51-b718-ccde0dcaec4e",
   "metadata": {},
   "outputs": [],
   "source": [
    "#for 문 이용해 가장 큰 데이터 호출\n",
    "def my_max(*numbers):\n",
    "    max_num = 0\n",
    "\n",
    "    for number in numbers:\n",
    "        if max_num < number:\n",
    "            max_num = number\n",
    "    \n",
    "    return max_num\n",
    "    \n",
    "            "
   ]
  },
  {
   "cell_type": "code",
   "execution_count": 44,
   "id": "e8daf2f6-2a53-48c2-9440-c3fc71c2d97d",
   "metadata": {},
   "outputs": [],
   "source": [
    "##정의되지 않은 키워드 인자 처리하기\n",
    "\n",
    "```def func: "
   ]
  },
  {
   "cell_type": "code",
   "execution_count": null,
   "id": "cbc25e95-82f2-4903-8345-7a920760d756",
   "metadata": {},
   "outputs": [],
   "source": [
    "info = {\n",
    "    'name': 'hong',\n",
    "    'age': 10,\n",
    "}\n",
    "print(info)"
   ]
  },
  {
   "cell_type": "code",
   "execution_count": null,
   "id": "12a25d83-71e6-4652-88d7-d58de8bc75bb",
   "metadata": {},
   "outputs": [],
   "source": [
    "def my_dict(**"
   ]
  },
  {
   "cell_type": "code",
   "execution_count": null,
   "id": "784d7b76-336d-4db4-82a0-03311bf966f3",
   "metadata": {},
   "outputs": [],
   "source": [
    "dict 를 인자로 넣기(unpacking) - 함수 입력값 앞에 **"
   ]
  },
  {
   "cell_type": "code",
   "execution_count": 45,
   "id": "c20fa4ef-890f-416a-a08b-06a3a6a89466",
   "metadata": {},
   "outputs": [],
   "source": [
    "#비번이 맞는지 상황 구현\n",
    "def sign_up(username, pw, pw_conf):\n",
    "    if pw == pw_conf:\n",
    "        print(f'{username}님 회원가입을 환영합니다.')\n",
    "    else:\n",
    "        print('비밀번호가 일치하지않습니다.')\n",
    "        \n",
    "        "
   ]
  },
  {
   "cell_type": "code",
   "execution_count": 46,
   "id": "41990ebb-9a3c-4740-bb25-b198cd3c1691",
   "metadata": {},
   "outputs": [
    {
     "name": "stdout",
     "output_type": "stream",
     "text": [
      "비밀번호가 일치하지않습니다.\n",
      "hong님 회원가입을 환영합니다.\n"
     ]
    }
   ],
   "source": [
    "sign_up('hong','1234','123')\n",
    "sign_up('hong','1234','1234')\n"
   ]
  },
  {
   "cell_type": "markdown",
   "id": "2d94be53-006d-4a34-ae96-5495478b5175",
   "metadata": {},
   "source": [
    "## lambda 표현식\n",
    "\n",
    "\n",
    "```python\n",
    "lambda parameter:expression\n"
   ]
  },
  {
   "cell_type": "code",
   "execution_count": 47,
   "id": "10cda9bf-f7db-433c-9bea-bb82bca8c95d",
   "metadata": {},
   "outputs": [],
   "source": [
    "def my_sum(num1, num2):\n",
    "    return num1 + num2\n",
    "    "
   ]
  },
  {
   "cell_type": "code",
   "execution_count": 48,
   "id": "610243a8-2e39-4df0-ae2c-cb5d50eb8ab8",
   "metadata": {},
   "outputs": [
    {
     "data": {
      "text/plain": [
       "3"
      ]
     },
     "execution_count": 48,
     "metadata": {},
     "output_type": "execute_result"
    }
   ],
   "source": [
    "my_sum(1,2)"
   ]
  },
  {
   "cell_type": "code",
   "execution_count": 49,
   "id": "f15f959d-2936-4dde-a31f-58669e140baa",
   "metadata": {},
   "outputs": [
    {
     "data": {
      "text/plain": [
       "3"
      ]
     },
     "execution_count": 49,
     "metadata": {},
     "output_type": "execute_result"
    }
   ],
   "source": [
    "(lambda num1, num2: num1 + num2)(1, 2)"
   ]
  },
  {
   "cell_type": "markdown",
   "id": "d37cef41-fc8d-4d6c-8a8e-f9e6a40bd9f4",
   "metadata": {},
   "source": [
    "## 타입힌트"
   ]
  },
  {
   "cell_type": "code",
   "execution_count": null,
   "id": "4b714fee-14cf-4af2-ae2f-a53176176c01",
   "metadata": {},
   "outputs": [],
   "source": [
    "def my_sum(a: int, b: int) #-> int:리턴되는 값이 int 타입이다 라고 힌트 제공 #a, b 각 타입에 대한 힌트 제공\n",
    "    return a + b"
   ]
  },
  {
   "cell_type": "code",
   "execution_count": null,
   "id": "5a1e81e9-6a7d-4ff8-91e0-570c296f5860",
   "metadata": {},
   "outputs": [],
   "source": [
    "my_sum(1, 20)"
   ]
  },
  {
   "cell_type": "markdown",
   "id": "e7067592-6996-46c4-a606-21df97daf132",
   "metadata": {},
   "source": [
    "## 이름공간(scope)\n",
    "\n",
    "python에서 사용되는 이름들은 이름공간에 저장되어있습니다.\n",
    "\n",
    "1. Local: 정의된 함수 내부\n",
    "2. Enclosed: 상위 함수\n",
    "3. Global: 함수 밖의 변수\n",
    "4. Built-in: python이 기본적으로 가지고 있는 함수 / 변수\n",
    "\n"
   ]
  },
  {
   "cell_type": "code",
   "execution_count": null,
   "id": "64e8de99-28df-44e4-917e-b46c73cb40c0",
   "metadata": {},
   "outputs": [],
   "source": [
    "results = str(1)\n",
    "print(results)"
   ]
  },
  {
   "cell_type": "code",
   "execution_count": 50,
   "id": "7eada3b4-50fc-4fce-9a2f-fca991a8daa2",
   "metadata": {},
   "outputs": [],
   "source": [
    "str = 'hi'"
   ]
  },
  {
   "cell_type": "code",
   "execution_count": 51,
   "id": "b9027150-832c-42c5-8c01-a263992077cd",
   "metadata": {},
   "outputs": [
    {
     "ename": "TypeError",
     "evalue": "'str' object is not callable",
     "output_type": "error",
     "traceback": [
      "\u001b[1;31m---------------------------------------------------------------------------\u001b[0m",
      "\u001b[1;31mTypeError\u001b[0m                                 Traceback (most recent call last)",
      "Cell \u001b[1;32mIn[51], line 1\u001b[0m\n\u001b[1;32m----> 1\u001b[0m results \u001b[38;5;241m=\u001b[39m \u001b[38;5;28;43mstr\u001b[39;49m\u001b[43m(\u001b[49m\u001b[38;5;241;43m1\u001b[39;49m\u001b[43m)\u001b[49m\n\u001b[0;32m      2\u001b[0m \u001b[38;5;28mprint\u001b[39m(results)\n",
      "\u001b[1;31mTypeError\u001b[0m: 'str' object is not callable"
     ]
    }
   ],
   "source": [
    "results = str(1)\n",
    "print(results)"
   ]
  },
  {
   "cell_type": "code",
   "execution_count": 52,
   "id": "e435789e-33ca-4e12-a6bf-0c435ed2d1db",
   "metadata": {},
   "outputs": [],
   "source": [
    "del str"
   ]
  },
  {
   "cell_type": "code",
   "execution_count": null,
   "id": "0ec1c44c-fb18-4236-9693-2def211b419c",
   "metadata": {},
   "outputs": [],
   "source": [
    "a = 1\n",
    "\n",
    "def local_scope(a):\n",
    "    return(a)\n",
    "\n",
    "print(a)\n",
    "print(local_scope(5))\n",
    "#a와 local_scope(a)는 완전 다른 데이터\n"
   ]
  },
  {
   "cell_type": "code",
   "execution_count": null,
   "id": "991f8da0-fb71-409d-aa8d-eb73789e1cc5",
   "metadata": {},
   "outputs": [],
   "source": [
    "a = 10\n",
    "\n",
    "def global_scope():\n",
    "    return a\n",
    "\n",
    "global_scope()\n",
    "\n"
   ]
  },
  {
   "cell_type": "code",
   "execution_count": null,
   "id": "e92d34b1-f1ea-4974-86b4-9c914875a252",
   "metadata": {},
   "outputs": [],
   "source": [
    "a = 12\n",
    "def global_Scope9):\n",
    "    global a\n",
    "    "
   ]
  },
  {
   "cell_type": "code",
   "execution_count": null,
   "id": "05b9b9c8-0bd6-4fea-86b5-ffda394781d2",
   "metadata": {},
   "outputs": [],
   "source": [
    "n! = 1 * 2 * 3 * ... n\n",
    "\n",
    "- 1! = 2\n",
    "- 2! = 1 * 2 = 1! * 2\n",
    "- 3! = 1 * 2 * 3 = 2! * 3\n",
    "- n! = (n-1)! * n\n"
   ]
  },
  {
   "cell_type": "code",
   "execution_count": null,
   "id": "30c95b42-45a9-4be7-8c8f-ae760824e837",
   "metadata": {},
   "outputs": [],
   "source": [
    "- 1! = 2"
   ]
  },
  {
   "cell_type": "code",
   "execution_count": null,
   "id": "be1bf331-4646-4874-987d-80930bdac592",
   "metadata": {},
   "outputs": [],
   "source": [
    "def fact(n):\n",
    "    \n"
   ]
  }
 ],
 "metadata": {
  "kernelspec": {
   "display_name": "Python 3 (ipykernel)",
   "language": "python",
   "name": "python3"
  },
  "language_info": {
   "codemirror_mode": {
    "name": "ipython",
    "version": 3
   },
   "file_extension": ".py",
   "mimetype": "text/x-python",
   "name": "python",
   "nbconvert_exporter": "python",
   "pygments_lexer": "ipython3",
   "version": "3.12.4"
  }
 },
 "nbformat": 4,
 "nbformat_minor": 5
}
