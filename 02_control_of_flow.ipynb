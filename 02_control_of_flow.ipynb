{
 "cells": [
  {
   "cell_type": "code",
   "execution_count": 1,
   "id": "9a501746-dd07-480d-b84b-782ceac5e3eb",
   "metadata": {},
   "outputs": [
    {
     "name": "stdin",
     "output_type": "stream",
     "text": [
      "숫자를 입력해주세요 123\n"
     ]
    },
    {
     "ename": "TypeError",
     "evalue": "not all arguments converted during string formatting",
     "output_type": "error",
     "traceback": [
      "\u001b[1;31m---------------------------------------------------------------------------\u001b[0m",
      "\u001b[1;31mTypeError\u001b[0m                                 Traceback (most recent call last)",
      "Cell \u001b[1;32mIn[1], line 3\u001b[0m\n\u001b[0;32m      1\u001b[0m num \u001b[38;5;241m=\u001b[39m \u001b[38;5;28minput\u001b[39m(\u001b[38;5;124m\"\u001b[39m\u001b[38;5;124m숫자를 입력해주세요\u001b[39m\u001b[38;5;124m\"\u001b[39m)\n\u001b[1;32m----> 3\u001b[0m result \u001b[38;5;241m=\u001b[39m \u001b[43mnum\u001b[49m\u001b[43m \u001b[49m\u001b[38;5;241;43m%\u001b[39;49m\u001b[43m \u001b[49m\u001b[38;5;241;43m2\u001b[39;49m\n",
      "\u001b[1;31mTypeError\u001b[0m: not all arguments converted during string formatting"
     ]
    }
   ],
   "source": [
    "num = input(\"숫자를 입력해주세요\")\n",
    "\n",
    "result = num % 2"
   ]
  },
  {
   "cell_type": "code",
   "execution_count": 3,
   "id": "fd980dad-6645-4a55-bcbe-9152a90a2baa",
   "metadata": {},
   "outputs": [
    {
     "name": "stdin",
     "output_type": "stream",
     "text": [
      "숫자를 입력해주세요 123\n"
     ]
    },
    {
     "name": "stdout",
     "output_type": "stream",
     "text": [
      "홀수입니다.\n"
     ]
    }
   ],
   "source": [
    "num = input(\"숫자를 입력해주세요\")\n",
    "result = int(num) % 2\n",
    "\n",
    "if bool(result):\n",
    "    print(\"홀수입니다.\")\n",
    "\n",
    "else:\n",
    "    print(\"짝수입니다.\")\n",
    "\n"
   ]
  },
  {
   "cell_type": "code",
   "execution_count": 4,
   "id": "d12276f1-6a60-42f0-a980-63f56f27e17d",
   "metadata": {},
   "outputs": [
    {
     "name": "stdin",
     "output_type": "stream",
     "text": [
      " 123\n"
     ]
    },
    {
     "name": "stdout",
     "output_type": "stream",
     "text": [
      "홀수\n"
     ]
    }
   ],
   "source": [
    "num = int(input())\n",
    "\n",
    "if num % 2 == 1:\n",
    "    print('홀수')\n",
    "\n",
    "else:\n",
    "    print('짝수')\n",
    "    "
   ]
  },
  {
   "cell_type": "code",
   "execution_count": 6,
   "id": "bef61d53-5d23-49dc-ad52-8450025142eb",
   "metadata": {},
   "outputs": [
    {
     "name": "stdin",
     "output_type": "stream",
     "text": [
      " 2\n"
     ]
    },
    {
     "name": "stdout",
     "output_type": "stream",
     "text": [
      "짝수\n"
     ]
    }
   ],
   "source": [
    "num = int(input())\n",
    "\n",
    "if num % 2 == 0:\n",
    "    print('짝수')\n",
    "\n",
    "else:\n",
    "    print('홀수')"
   ]
  },
  {
   "cell_type": "code",
   "execution_count": 8,
   "id": "95e5d0db-c083-41b1-9e8c-d09a159160c3",
   "metadata": {},
   "outputs": [
    {
     "name": "stdin",
     "output_type": "stream",
     "text": [
      " 5\n"
     ]
    },
    {
     "name": "stdout",
     "output_type": "stream",
     "text": [
      "홀수\n"
     ]
    }
   ],
   "source": [
    "#이해가 안가요\n",
    "\n",
    "num = int(input())\n",
    "\n",
    "if num % 2:\n",
    "    print('홀수')\n",
    "\n",
    "else:\n",
    "    print('짝수')"
   ]
  },
  {
   "cell_type": "code",
   "execution_count": null,
   "id": "7ab4fb56-9d44-4eb1-9c48-3fecc728e236",
   "metadata": {},
   "outputs": [],
   "source": [
    "#elif 조건식\n",
    "\n",
    "score = int(input())\n",
    "\n",
    "#90점 이상 A\n",
    "#80~89 B\n",
    "#70~79 c\n",
    "#rest F\n",
    "\n",
    "if score >= 90:\n",
    "    print('A')\n",
    "elif score >= 80 and score <= 89:\n",
    "    print('B')\n",
    "elif 70 <= \n",
    "\n"
   ]
  },
  {
   "cell_type": "code",
   "execution_count": 10,
   "id": "c1f5a349-dcac-47cd-a0e9-5adcbf14ff2f",
   "metadata": {},
   "outputs": [
    {
     "name": "stdin",
     "output_type": "stream",
     "text": [
      " 96\n"
     ]
    },
    {
     "name": "stdout",
     "output_type": "stream",
     "text": [
      "A\n",
      "참잘했어요\n"
     ]
    }
   ],
   "source": [
    "#중첩 if 가능\n",
    "\n",
    "#90점 이상 중에 95점 이상 받은 사람은 '참잘했어요' 출력\n",
    "score = int(input())\n",
    "\n",
    "if score >= 90:\n",
    "    print('A')\n",
    "    if score >= 95:\n",
    "        print('참잘했어요')\n",
    "\n",
    "elif score >= 80:\n",
    "    print('B')"
   ]
  },
  {
   "cell_type": "markdown",
   "id": "9260292f-aaf1-477e-9436-deca80e15647",
   "metadata": {},
   "source": [
    "##조건표현식\n",
    "\n",
    "```\n",
    "true_value if <조건식> else false_value\n",
    "\n",
    "```"
   ]
  },
  {
   "cell_type": "code",
   "execution_count": null,
   "id": "b147be49-cf85-4062-9269-fa6578e3f84a",
   "metadata": {},
   "outputs": [],
   "source": [
    "if 1 > 0 else"
   ]
  },
  {
   "cell_type": "code",
   "execution_count": null,
   "id": "ec17a678-af4c-44f3-b2f4-5b14f4cdc427",
   "metadata": {},
   "outputs": [],
   "source": [
    "num = 5\n",
    "value = num if num <= else 0\n",
    "print('value')\n"
   ]
  },
  {
   "cell_type": "code",
   "execution_count": 11,
   "id": "e944d247-38b1-4338-a246-7e5f0f9b1c64",
   "metadata": {},
   "outputs": [
    {
     "name": "stdout",
     "output_type": "stream",
     "text": [
      "짝수\n"
     ]
    }
   ],
   "source": [
    "num = 2\n",
    "\n",
    "if num % 2:\n",
    "    result = '홀수'\n",
    "\n",
    "else:\n",
    "    result = '짝수'\n",
    "\n",
    "print(result)"
   ]
  },
  {
   "cell_type": "code",
   "execution_count": 13,
   "id": "db738a2f-990a-4cc5-8381-eb42abc877c7",
   "metadata": {},
   "outputs": [
    {
     "name": "stdout",
     "output_type": "stream",
     "text": [
      "홀수\n"
     ]
    }
   ],
   "source": [
    "num = 3\n",
    "result = '홀수' if num % 2 else '짝수'\n",
    "print(result)\n"
   ]
  },
  {
   "cell_type": "markdown",
   "id": "e0a829c3-48e3-4605-93a9-0525245cdd9f",
   "metadata": {},
   "source": [
    "## 반복문\n",
    "\n",
    "### while문\n",
    "\n",
    "```\n",
    "while <조건식>:\n",
    "    실행할 코드\n",
    "\n"
   ]
  },
  {
   "cell_type": "code",
   "execution_count": 14,
   "id": "3536e023-8164-4fbc-9739-32df79ed242f",
   "metadata": {},
   "outputs": [
    {
     "name": "stdout",
     "output_type": "stream",
     "text": [
      "0\n",
      "1\n",
      "2\n",
      "3\n",
      "4\n"
     ]
    }
   ],
   "source": [
    "a = 0\n",
    "while a < 5:\n",
    "    print(a)\n",
    "    a += 1   #a = a + 1 과 완전히 똑같은 식. #조건을 걸어줘야함"
   ]
  },
  {
   "cell_type": "code",
   "execution_count": 15,
   "id": "37045b95-1965-40a2-b935-c6ee53686561",
   "metadata": {},
   "outputs": [
    {
     "name": "stdin",
     "output_type": "stream",
     "text": [
      "안녕이라고 말해줘 aa\n",
      "안녕이라고 말해줘 안녕\n"
     ]
    }
   ],
   "source": [
    "greeting = '' #비어 있는 문자 넣기 #데이터 없는 string\n",
    "\n",
    "while greeting != '안녕':\n",
    "   greeting = input('안녕이라고 말해줘')\n"
   ]
  },
  {
   "cell_type": "markdown",
   "id": "13aa2bb5-91f6-4c05-af5a-49624e7bafe9",
   "metadata": {},
   "source": [
    "### for\n",
    "\n",
    "    정해진 범위 내의 반복\n",
    "\n",
    "```\n",
    "\n",
    "for variable(item) in sequence:\n",
    "    code\n",
    "```\n",
    "시퀀스 자료는 순서대로 정리가 되어있기때문에 반복문 가능\n"
   ]
  },
  {
   "cell_type": "code",
   "execution_count": 16,
   "id": "cac3286a-27a9-41c5-bedc-2f975eac9a01",
   "metadata": {},
   "outputs": [
    {
     "name": "stdout",
     "output_type": "stream",
     "text": [
      "1\n",
      "2\n",
      "3\n",
      "4\n",
      "5\n"
     ]
    }
   ],
   "source": [
    "numbers = [1, 2, 3, 4, 5]\n",
    "\n",
    "for number in numbers:\n",
    "    print(number)\n"
   ]
  },
  {
   "cell_type": "code",
   "execution_count": 17,
   "id": "3f4d18ce-130e-4eaf-92e2-3ea08d38ee33",
   "metadata": {},
   "outputs": [
    {
     "name": "stdin",
     "output_type": "stream",
     "text": [
      "단어를 입력해주세요 apple\n"
     ]
    }
   ],
   "source": [
    "word = input('단어를 입력해주세요')\n"
   ]
  },
  {
   "cell_type": "code",
   "execution_count": 20,
   "id": "35057e18-7804-4b6d-ac8c-f5ed79cff1fd",
   "metadata": {},
   "outputs": [
    {
     "name": "stdin",
     "output_type": "stream",
     "text": [
      "단어를 입력해주세요 apple\n"
     ]
    },
    {
     "name": "stdout",
     "output_type": "stream",
     "text": [
      "a\n",
      "p\n",
      "p\n",
      "l\n",
      "e\n"
     ]
    }
   ],
   "source": [
    "word = input('단어를 입력해주세요')\n",
    "\n",
    "for char in word:\n",
    "    print(char)"
   ]
  },
  {
   "cell_type": "code",
   "execution_count": 21,
   "id": "02777f02-6df7-4d4f-973a-cd8a55b2242c",
   "metadata": {},
   "outputs": [
    {
     "name": "stdout",
     "output_type": "stream",
     "text": [
      "0\n",
      "1\n",
      "2\n",
      "3\n",
      "4\n"
     ]
    }
   ],
   "source": [
    "for i in range(5):\n",
    "    print(i)\n",
    "\n",
    "#range 범위를 만들고 반복 수"
   ]
  },
  {
   "cell_type": "code",
   "execution_count": 22,
   "id": "dfcafc37-3769-48c1-b1cb-dd95e01f4f81",
   "metadata": {},
   "outputs": [
    {
     "name": "stdout",
     "output_type": "stream",
     "text": [
      "1\n",
      "2\n",
      "3\n",
      "4\n",
      "5\n"
     ]
    }
   ],
   "source": [
    "for i in (1,2,3,4,5):\n",
    "    print(i)"
   ]
  },
  {
   "cell_type": "code",
   "execution_count": 26,
   "id": "120f70b4-4049-4195-a9cb-effa01cbfd4e",
   "metadata": {},
   "outputs": [
    {
     "name": "stdout",
     "output_type": "stream",
     "text": [
      "1\n",
      "3\n",
      "5\n",
      "7\n",
      "9\n",
      "11\n",
      "13\n",
      "15\n",
      "17\n",
      "19\n",
      "21\n",
      "23\n",
      "25\n",
      "27\n",
      "29\n"
     ]
    }
   ],
   "source": [
    "#1~30까지 숫자들 중에서 홀수만 출력\n",
    "numbers = range(31)\n",
    "\n",
    "for number in numbers:\n",
    "    if number % 2:\n",
    "        print(number)\n"
   ]
  },
  {
   "cell_type": "code",
   "execution_count": 28,
   "id": "b01b7621-8d4e-4151-93ad-e046a724b79f",
   "metadata": {},
   "outputs": [
    {
     "name": "stdout",
     "output_type": "stream",
     "text": [
      "(0, '라면')\n",
      "(1, '김밥')\n",
      "(2, '백반')\n"
     ]
    }
   ],
   "source": [
    "menus = ['라면','김밥','백반']\n",
    "for menu in enumerate(menus):\n",
    "    print(menu)"
   ]
  },
  {
   "cell_type": "code",
   "execution_count": 29,
   "id": "52e43577-f0dc-403c-90c1-eff30f54f8f3",
   "metadata": {},
   "outputs": [
    {
     "name": "stdout",
     "output_type": "stream",
     "text": [
      "0\n",
      "라면\n",
      "1\n",
      "김밥\n",
      "2\n",
      "백반\n"
     ]
    }
   ],
   "source": [
    "for index, menu in enumerate(menus):\n",
    "    print(index)\n",
    "    print(menu)\n"
   ]
  },
  {
   "cell_type": "code",
   "execution_count": 1,
   "id": "90b1294a-de56-4bde-8ec2-95b9cbc485c6",
   "metadata": {},
   "outputs": [],
   "source": [
    "info = {\n",
    "    'name': 'gildong',\n",
    "    'location' : 'seoul',\n",
    "    'phone' : '010-1234-1234',\n",
    "    'age' : 20,\n",
    "}\n"
   ]
  },
  {
   "cell_type": "code",
   "execution_count": 3,
   "id": "4e7512ca-f9b9-4a2f-a42c-76702a27fdc2",
   "metadata": {},
   "outputs": [
    {
     "name": "stdout",
     "output_type": "stream",
     "text": [
      "name\n",
      "gildong\n",
      "location\n",
      "seoul\n",
      "phone\n",
      "010-1234-1234\n",
      "age\n",
      "20\n"
     ]
    }
   ],
   "source": [
    "for cat in info:\n",
    "    print(cat)\n",
    "    print(info[cat])"
   ]
  },
  {
   "cell_type": "code",
   "execution_count": 4,
   "id": "37f8f151-cded-43e7-af03-d8d3585b1aba",
   "metadata": {},
   "outputs": [
    {
     "data": {
      "text/plain": [
       "dict_keys(['name', 'location', 'phone', 'age'])"
      ]
     },
     "execution_count": 4,
     "metadata": {},
     "output_type": "execute_result"
    }
   ],
   "source": [
    "info.keys()\n",
    "#for key in info.keys():\n",
    "    print(key)\n",
    "    "
   ]
  },
  {
   "cell_type": "code",
   "execution_count": 5,
   "id": "b29e695c-f1f2-4a50-b18f-0f694b4fc4c2",
   "metadata": {},
   "outputs": [
    {
     "name": "stdout",
     "output_type": "stream",
     "text": [
      "gildong\n",
      "seoul\n",
      "010-1234-1234\n",
      "20\n"
     ]
    }
   ],
   "source": [
    "for value in info.values():\n",
    "    print(value)"
   ]
  },
  {
   "cell_type": "code",
   "execution_count": 6,
   "id": "1a906d2b-d11e-44b1-8236-092f42e4f8df",
   "metadata": {},
   "outputs": [
    {
     "name": "stdout",
     "output_type": "stream",
     "text": [
      "name gildong\n",
      "location seoul\n",
      "phone 010-1234-1234\n",
      "age 20\n"
     ]
    }
   ],
   "source": [
    "for key, value in info.items():\n",
    "    print(key, value)"
   ]
  },
  {
   "cell_type": "code",
   "execution_count": 8,
   "id": "290442d8-90aa-47e5-82a4-2d199c758740",
   "metadata": {},
   "outputs": [],
   "source": [
    "blood_type = {\n",
    "    'A':5,\n",
    "    'B':3,\n",
    "    'O':2,\n",
    "    'AB':2,\n",
    "}\n"
   ]
  },
  {
   "cell_type": "code",
   "execution_count": 9,
   "id": "7b03927a-f1f9-441b-a8fb-00e62175b812",
   "metadata": {},
   "outputs": [
    {
     "name": "stdout",
     "output_type": "stream",
     "text": [
      "혈액형의 종류는 \n",
      "A\n",
      "B\n",
      "O\n",
      "AB\n",
      "가 있습니다\n"
     ]
    }
   ],
   "source": [
    "#혈액형의 종류는 ?? ?? 입니다.\n",
    "print('혈액형의 종류는', end=' ')\n",
    "for key in blood_type.keys():\n",
    "    print(key, end=' ')\n",
    "print('가 있습니다')"
   ]
  },
  {
   "cell_type": "code",
   "execution_count": 12,
   "id": "655738bf-e7f9-4db1-9845-8c7d05748a41",
   "metadata": {},
   "outputs": [
    {
     "name": "stdout",
     "output_type": "stream",
     "text": [
      "총 학생수는 12명입니다.\n"
     ]
    }
   ],
   "source": [
    "#총 학생수는 몇명입니다.\n",
    "result = 0\n",
    "for value in blood_type.values():\n",
    "    result = result + value\n",
    "\n",
    "print(f'총 학생수는 {result}명입니다.')"
   ]
  },
  {
   "cell_type": "code",
   "execution_count": 14,
   "id": "18821f9d-4606-49fe-acf9-f412e563be5f",
   "metadata": {},
   "outputs": [
    {
     "name": "stdout",
     "output_type": "stream",
     "text": [
      "0\n",
      "0\n",
      "1\n",
      "1\n",
      "2\n",
      "2\n",
      "3\n",
      "3\n",
      "4\n",
      "4\n",
      "5\n",
      "5\n",
      "6\n",
      "6\n",
      "7\n",
      "7\n",
      "8\n",
      "8\n",
      "9\n",
      "9\n",
      "10\n",
      "10\n",
      "11\n"
     ]
    }
   ],
   "source": [
    "for i in range(100):\n",
    "    print(i)\n",
    "    if i > 10:\n",
    "        break\n",
    "    print(i)\n",
    "    "
   ]
  },
  {
   "cell_type": "code",
   "execution_count": 16,
   "id": "75d7dc72-b288-4d14-9a21-f0c5187f3c74",
   "metadata": {},
   "outputs": [
    {
     "name": "stdout",
     "output_type": "stream",
     "text": [
      "쌀\n",
      "잡았다\n"
     ]
    }
   ],
   "source": [
    "rice = ['쌀', '보리', '보리', '보리', '쌀', '보리']\n",
    "\n",
    "for r in rice:\n",
    "    print(r)\n",
    "    if r == '쌀':\n",
    "        print('잡았다')\n",
    "        break\n",
    "        "
   ]
  },
  {
   "cell_type": "code",
   "execution_count": 18,
   "id": "00788052-9801-40ca-8708-01814d4f47eb",
   "metadata": {},
   "outputs": [
    {
     "name": "stdout",
     "output_type": "stream",
     "text": [
      "잡았다\n"
     ]
    }
   ],
   "source": [
    "i = 0\n",
    "\n",
    "while True:\n",
    "    if rice[i] == '쌀':\n",
    "        print('잡았다')\n",
    "        break\n",
    "    print(rice[i])\n",
    "    i = i + 1"
   ]
  },
  {
   "cell_type": "markdown",
   "id": "bf1e1d12-f81d-4f6c-8e73-c8034a77280a",
   "metadata": {},
   "source": [
    "##continue\n",
    "\n",
    "continue 이후의 코드를 실행하지않고 다음 반복을 진행"
   ]
  },
  {
   "cell_type": "code",
   "execution_count": null,
   "id": "4f213e72-fa8d-4101-b12c-9e7cf9950d19",
   "metadata": {},
   "outputs": [],
   "source": [
    "for i in range(20):\n",
    "    if i % 2:\n",
    "        continue\n",
    "    print(i)\n",
    "    \n"
   ]
  },
  {
   "cell_type": "code",
   "execution_count": 19,
   "id": "41394f84-8730-4d89-810c-af2fadbb908b",
   "metadata": {},
   "outputs": [
    {
     "name": "stdout",
     "output_type": "stream",
     "text": [
      "30살은 성인입니다.\n",
      "40살은 성인입니다.\n",
      "50살은 성인입니다.\n"
     ]
    }
   ],
   "source": [
    "ages = [10, 20, 30, 40, 50]\n",
    "\n",
    "for age in ages:\n",
    "    if age <= 20:\n",
    "        continue\n",
    "    print(f'{age}살은 성인입니다.')"
   ]
  },
  {
   "cell_type": "markdown",
   "id": "04401c36-3e68-46d3-af59-f19b95142fb5",
   "metadata": {},
   "source": [
    "### else\n",
    "\n",
    "else문은 끝까지 반복된 후 실행됩니다."
   ]
  },
  {
   "cell_type": "code",
   "execution_count": 20,
   "id": "eafd4dfb-67ab-459d-a43b-4afcc3174892",
   "metadata": {},
   "outputs": [
    {
     "name": "stdout",
     "output_type": "stream",
     "text": [
      "0\n",
      "1\n",
      "2\n",
      "3\n",
      "4\n",
      "5\n",
      "6\n",
      "7\n",
      "8\n",
      "9\n",
      "else입니다.\n"
     ]
    }
   ],
   "source": [
    "for i in range(10):\n",
    "    print(i)\n",
    "else:\n",
    "    print('else입니다.')\n",
    "    "
   ]
  },
  {
   "cell_type": "code",
   "execution_count": null,
   "id": "d97dc1e4-5eab-4a31-89ce-29ed27fcf8b3",
   "metadata": {},
   "outputs": [],
   "source": [
    "#pass\n",
    "\n",
    "if True:\n",
    "    pass\n",
    "\n"
   ]
  },
  {
   "cell_type": "code",
   "execution_count": null,
   "id": "cc41cb11-c9b4-4c2b-8c62-c33d3cc1d6cc",
   "metadata": {},
   "outputs": [],
   "source": [
    "## match\n",
    "\n",
    "```\n",
    "match value:\n",
    "    case 조건:\n",
    "        code\n",
    "    case 조건:\n",
    "        code\n",
    "    case _:\n",
    "        code\n",
    "        "
   ]
  },
  {
   "cell_type": "code",
   "execution_count": null,
   "id": "e8259038-9075-48be-95fa-92fa77552286",
   "metadata": {},
   "outputs": [],
   "source": [
    "status = 404\n",
    "\n",
    "match status:\n",
    "    case 200:\n",
    "        print('ok')\n",
    "    case 404:\n",
    "        print('bad')\n",
    "    case _:\n",
    "        print('i don't know')\n",
    "        "
   ]
  }
 ],
 "metadata": {
  "kernelspec": {
   "display_name": "Python 3 (ipykernel)",
   "language": "python",
   "name": "python3"
  },
  "language_info": {
   "codemirror_mode": {
    "name": "ipython",
    "version": 3
   },
   "file_extension": ".py",
   "mimetype": "text/x-python",
   "name": "python",
   "nbconvert_exporter": "python",
   "pygments_lexer": "ipython3",
   "version": "3.12.4"
  }
 },
 "nbformat": 4,
 "nbformat_minor": 5
}
